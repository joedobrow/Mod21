{
 "cells": [
  {
   "cell_type": "code",
   "execution_count": 111,
   "metadata": {},
   "outputs": [],
   "source": [
    "import pandas as pd\n",
    "import numpy as np\n",
    "import matplotlib.pyplot as plt\n",
    "%matplotlib inline\n",
    "import seaborn as sns\n",
    "import math\n",
    "from matplotlib.mlab import PCA as mlabPCA\n",
    "from sklearn.preprocessing import StandardScaler\n",
    "from sklearn.decomposition import PCA\n",
    "import warnings\n",
    "\n",
    "warnings.filterwarnings('ignore')\n",
    "\n",
    "from sklearn import ensemble\n",
    "from sklearn.model_selection import cross_val_score"
   ]
  },
  {
   "cell_type": "code",
   "execution_count": 112,
   "metadata": {},
   "outputs": [],
   "source": [
    "df = pd.read_csv('/Users/jdobrow/Desktop/Data Science/LoanStats3d.csv', sep=',', header=1)"
   ]
  },
  {
   "cell_type": "code",
   "execution_count": 113,
   "metadata": {},
   "outputs": [],
   "source": [
    "clean_df = df.copy()\n",
    "clean_df['id'] = pd.to_numeric(df['id'], errors='coerce')\n",
    "clean_df['int_rate'] = pd.to_numeric(df['int_rate'].str.strip('%'), errors='coerce')\n",
    "\n",
    "# Drop other columns with many unique variables\n",
    "clean_df.drop(['url', 'emp_title', 'zip_code', 'earliest_cr_line', 'revol_util',\n",
    "            'sub_grade', 'addr_state', 'desc'], 1, inplace=True)\n",
    "\n",
    "clean_df = clean_df[:-2]"
   ]
  },
  {
   "cell_type": "code",
   "execution_count": 114,
   "metadata": {},
   "outputs": [
    {
     "data": {
      "text/plain": [
       "421095"
      ]
     },
     "execution_count": 114,
     "metadata": {},
     "output_type": "execute_result"
    }
   ],
   "source": [
    "len(clean_df.id.unique())\n",
    "# These are unique IDs and don't help"
   ]
  },
  {
   "cell_type": "code",
   "execution_count": 115,
   "metadata": {},
   "outputs": [],
   "source": [
    "for i in range(len(clean_df)):\n",
    "    if clean_df.loan_amnt[i] != clean_df.funded_amnt[i]:\n",
    "        print(i)\n",
    "# they're the same!\n",
    "# funded_amnt_inv is not the same though."
   ]
  },
  {
   "cell_type": "code",
   "execution_count": 116,
   "metadata": {},
   "outputs": [
    {
     "data": {
      "text/plain": [
       "array([' 60 months', ' 36 months'], dtype=object)"
      ]
     },
     "execution_count": 116,
     "metadata": {},
     "output_type": "execute_result"
    }
   ],
   "source": [
    "clean_df.term.unique()"
   ]
  },
  {
   "cell_type": "code",
   "execution_count": 117,
   "metadata": {},
   "outputs": [
    {
     "data": {
      "text/plain": [
       "array([1.])"
      ]
     },
     "execution_count": 117,
     "metadata": {},
     "output_type": "execute_result"
    }
   ],
   "source": [
    "clean_df.policy_code.unique()"
   ]
  },
  {
   "cell_type": "code",
   "execution_count": 118,
   "metadata": {},
   "outputs": [],
   "source": [
    "if 'id' in clean_df.columns:\n",
    "    clean_df.drop('id', 1, inplace=True)\n",
    "if 'funded_amnt' in clean_df.columns:\n",
    "    clean_df.drop('funded_amnt', 1, inplace=True)\n",
    "if 'funded_amnt_inv' in clean_df.columns:\n",
    "    clean_df.drop('funded_amnt_inv', 1, inplace=True)\n",
    "if 'out_prncp_inv' in clean_df.columns:\n",
    "    clean_df.drop('out_prncp_inv', 1, inplace=True)\n",
    "if 'total_pymnt_inv' in clean_df.columns:\n",
    "    clean_df.drop('total_pymnt_inv', 1, inplace=True)\n",
    "if 'policy_code' in clean_df.columns:\n",
    "    clean_df.drop('policy_code', 1, inplace=True)"
   ]
  },
  {
   "cell_type": "code",
   "execution_count": 119,
   "metadata": {},
   "outputs": [],
   "source": [
    "clean_df.loan_status.unique()\n",
    "for i in range(len(clean_df.loan_status.unique())):\n",
    "    clean_df['loan_status' + clean_df.loan_status.unique()[i]] = pd.get_dummies(clean_df.loan_status).iloc[:,i]"
   ]
  },
  {
   "cell_type": "code",
   "execution_count": 120,
   "metadata": {},
   "outputs": [
    {
     "name": "stdout",
     "output_type": "stream",
     "text": [
      "Current 287414\n",
      "Fully Paid 87989\n",
      "Charged Off 29178\n",
      "Late (31-120 days) 9510\n",
      "In Grace Period 4320\n",
      "Default 796\n",
      "Late (16-30 days) 1888\n"
     ]
    }
   ],
   "source": [
    "for i in clean_df.loan_status.unique():\n",
    "    print(i, len(clean_df.loan_status[clean_df.loan_status == i]))"
   ]
  },
  {
   "cell_type": "code",
   "execution_count": 128,
   "metadata": {},
   "outputs": [],
   "source": [
    "dummy_df = pd.get_dummies(clean_df)"
   ]
  },
  {
   "cell_type": "code",
   "execution_count": 122,
   "metadata": {},
   "outputs": [],
   "source": [
    "x = dummy_df.corr()"
   ]
  },
  {
   "cell_type": "code",
   "execution_count": 123,
   "metadata": {},
   "outputs": [],
   "source": [
    "good_vars = []\n",
    "for j in range(40):\n",
    "    for i in range(len(x.loc['loan_statusCurrent'])):\n",
    "        if x.loc['loan_statusCurrent'][i] == sorted(x.loc['loan_statusCurrent'])[j]:\n",
    "            good_vars.append(x.index.values[i])"
   ]
  },
  {
   "cell_type": "code",
   "execution_count": 124,
   "metadata": {},
   "outputs": [],
   "source": [
    "active_df = dummy_df[good_vars].copy()\n",
    "active_df['loan_status'] = clean_df['loan_status'].copy()\n",
    "active_df.drop(active_df.columns[:6], 1, inplace=True)"
   ]
  },
  {
   "cell_type": "code",
   "execution_count": 125,
   "metadata": {},
   "outputs": [
    {
     "data": {
      "text/plain": [
       "array([0.72178291, 0.72130797, 0.72137921, 0.54126   , 0.72175255,\n",
       "       0.175564  , 0.7217222 , 0.7216747 , 0.72170898, 0.72136988])"
      ]
     },
     "execution_count": 125,
     "metadata": {},
     "output_type": "execute_result"
    }
   ],
   "source": [
    "rfc = ensemble.RandomForestClassifier()\n",
    "X = active_df.drop('loan_status', 1)\n",
    "Y = active_df['loan_status']\n",
    "X = X.dropna(axis=1)\n",
    "\n",
    "cross_val_score(rfc, X, Y, cv=10)"
   ]
  },
  {
   "cell_type": "code",
   "execution_count": 134,
   "metadata": {},
   "outputs": [],
   "source": [
    "for i in dummy_df:\n",
    "    if len(dummy_df[dummy_df[i] == dummy_df[i]]) < 421095:\n",
    "        dummy_df.drop(i,1,inplace=True)"
   ]
  },
  {
   "cell_type": "code",
   "execution_count": 136,
   "metadata": {},
   "outputs": [
    {
     "data": {
      "image/png": "[encoded data removed]",
      "text/plain": [
       "<Figure size 432x288 with 1 Axes>"
      ]
     },
     "metadata": {
      "needs_background": "light"
     },
     "output_type": "display_data"
    },
    {
     "name": "stdout",
     "output_type": "stream",
     "text": [
      "[ 9.31606020e+00+0.00000000e+00j  8.24552323e+00+0.00000000e+00j\n",
      "  5.45074053e+00+0.00000000e+00j  4.67105780e+00+0.00000000e+00j\n",
      "  3.69420251e+00+0.00000000e+00j  3.45281655e+00+0.00000000e+00j\n",
      "  3.13232140e+00+0.00000000e+00j  3.01879655e+00+0.00000000e+00j\n",
      "  2.62028886e+00+0.00000000e+00j  2.55198849e+00+0.00000000e+00j\n",
      "  2.45354250e+00+0.00000000e+00j  2.32283526e+00+0.00000000e+00j\n",
      "  2.22511057e+00+0.00000000e+00j  2.19240466e+00+0.00000000e+00j\n",
      "  2.13700855e+00+0.00000000e+00j  2.08145757e+00+0.00000000e+00j\n",
      "  2.05428272e+00+0.00000000e+00j  1.90263586e+00+0.00000000e+00j\n",
      "  1.93927507e+00+0.00000000e+00j  2.04174434e+00+0.00000000e+00j\n",
      "  2.02684877e+00+0.00000000e+00j  2.02165269e+00+0.00000000e+00j\n",
      "  2.01540078e+00+0.00000000e+00j  2.01002355e+00+0.00000000e+00j\n",
      "  1.99568969e+00+0.00000000e+00j  2.00441139e+00+0.00000000e+00j\n",
      "  2.00094498e+00+0.00000000e+00j  1.84616612e+00+0.00000000e+00j\n",
      "  1.77192069e+00+0.00000000e+00j  1.66998321e+00+0.00000000e+00j\n",
      "  1.60464818e+00+0.00000000e+00j  1.55222109e+00+0.00000000e+00j\n",
      "  1.49892663e+00+0.00000000e+00j  1.45886374e+00+0.00000000e+00j\n",
      "  1.42910348e+00+0.00000000e+00j  1.40274673e+00+0.00000000e+00j\n",
      "  1.39659339e+00+0.00000000e+00j  1.39171445e+00+0.00000000e+00j\n",
      "  1.37326389e+00+0.00000000e+00j  1.35793569e+00+0.00000000e+00j\n",
      "  1.35299792e+00+0.00000000e+00j  1.34046566e+00+0.00000000e+00j\n",
      "  3.40450130e-01+0.00000000e+00j  3.65463361e-01+0.00000000e+00j\n",
      "  3.75282285e-01+0.00000000e+00j  2.36962792e-01+0.00000000e+00j\n",
      "  2.11893060e-01+0.00000000e+00j  1.97700678e-01+0.00000000e+00j\n",
      "  2.08207371e-01+0.00000000e+00j  4.39564721e-01+0.00000000e+00j\n",
      "  4.62568211e-01+0.00000000e+00j  4.93759276e-01+0.00000000e+00j\n",
      "  1.33105396e+00+0.00000000e+00j  1.31376651e+00+0.00000000e+00j\n",
      "  1.30344986e+00+0.00000000e+00j  1.28041447e+00+0.00000000e+00j\n",
      "  1.27646060e+00+0.00000000e+00j  1.27861396e-01+0.00000000e+00j\n",
      "  1.07961111e-01+0.00000000e+00j  1.11090646e-01+0.00000000e+00j\n",
      "  1.15501806e-01+0.00000000e+00j  4.59372033e-01+0.00000000e+00j\n",
      "  4.98780941e-01+0.00000000e+00j  5.46482943e-01+0.00000000e+00j\n",
      "  5.53547854e-01+0.00000000e+00j  5.84969118e-01+0.00000000e+00j\n",
      "  5.93581067e-01+0.00000000e+00j  5.99589253e-01+0.00000000e+00j\n",
      "  6.14278538e-01+0.00000000e+00j  1.26363301e+00+0.00000000e+00j\n",
      "  8.81776727e-02+0.00000000e+00j  6.34719552e-01+0.00000000e+00j\n",
      "  6.26532603e-02+0.00000000e+00j  6.85475225e-02+0.00000000e+00j\n",
      "  6.43912132e-01+0.00000000e+00j  6.54016559e-01+0.00000000e+00j\n",
      "  1.25493177e+00+0.00000000e+00j  1.24674470e+00+0.00000000e+00j\n",
      "  5.85514432e-02+0.00000000e+00j  6.51638581e-02+0.00000000e+00j\n",
      "  1.23622963e+00+0.00000000e+00j  1.22901647e+00+0.00000000e+00j\n",
      "  1.20804567e+00+0.00000000e+00j  1.20087433e+00+0.00000000e+00j\n",
      "  6.78565455e-01+0.00000000e+00j  7.58096493e-01+0.00000000e+00j\n",
      "  7.46130910e-01+0.00000000e+00j  7.10611207e-01+0.00000000e+00j\n",
      "  7.05692157e-01+0.00000000e+00j  6.98144484e-01+0.00000000e+00j\n",
      "  6.93064034e-01+0.00000000e+00j  6.95727733e-01+0.00000000e+00j\n",
      "  1.18960337e+00+0.00000000e+00j  7.70510481e-01+0.00000000e+00j\n",
      "  7.35921637e-01+0.00000000e+00j  3.68701492e-02+0.00000000e+00j\n",
      "  3.30963089e-02+0.00000000e+00j  7.80608578e-01+0.00000000e+00j\n",
      "  1.18193296e+00+0.00000000e+00j  2.80772413e-02+0.00000000e+00j\n",
      "  2.69409064e-02+0.00000000e+00j  2.62940650e-02+0.00000000e+00j\n",
      "  2.71677479e-02+0.00000000e+00j  1.16579632e+00+0.00000000e+00j\n",
      "  1.16950197e+00+0.00000000e+00j  1.15774732e+00+0.00000000e+00j\n",
      "  1.15367399e+00+0.00000000e+00j  8.05311971e-01+0.00000000e+00j\n",
      "  8.09216820e-01+0.00000000e+00j  8.20186382e-01+0.00000000e+00j\n",
      "  8.25334128e-01+0.00000000e+00j  8.47265725e-01+0.00000000e+00j\n",
      "  8.38187517e-01+0.00000000e+00j  8.62751979e-01+0.00000000e+00j\n",
      "  1.13947707e+00+0.00000000e+00j  8.57755922e-01+0.00000000e+00j\n",
      "  1.41134932e-02+0.00000000e+00j  1.48565667e-02+0.00000000e+00j\n",
      "  9.02520154e-01+0.00000000e+00j  9.17141675e-01+0.00000000e+00j\n",
      "  1.12918541e+00+0.00000000e+00j  1.11977580e+00+0.00000000e+00j\n",
      "  1.11208539e+00+0.00000000e+00j  1.09961950e+00+0.00000000e+00j\n",
      "  1.09536619e+00+0.00000000e+00j  1.09076610e+00+0.00000000e+00j\n",
      "  9.30359940e-01+0.00000000e+00j  1.08523228e+00+0.00000000e+00j\n",
      "  1.08212052e+00+0.00000000e+00j  7.41812665e-03+0.00000000e+00j\n",
      "  6.74352609e-03+0.00000000e+00j  4.98882980e-03+0.00000000e+00j\n",
      "  9.50491443e-01+0.00000000e+00j  9.57070267e-01+0.00000000e+00j\n",
      "  1.07935094e+00+0.00000000e+00j  1.07255552e+00+0.00000000e+00j\n",
      "  1.07039858e+00+0.00000000e+00j  1.06683802e+00+0.00000000e+00j\n",
      "  1.06077548e+00+0.00000000e+00j  1.05919813e+00+0.00000000e+00j\n",
      "  1.05758805e+00+0.00000000e+00j  1.05515980e+00+0.00000000e+00j\n",
      "  1.04906439e+00+0.00000000e+00j  1.04193012e+00+0.00000000e+00j\n",
      "  1.04319510e+00+0.00000000e+00j  1.04621482e+00+0.00000000e+00j\n",
      "  1.03569568e+00+0.00000000e+00j  4.72791620e-03+0.00000000e+00j\n",
      "  4.51156572e-03+0.00000000e+00j  4.27145486e-03+0.00000000e+00j\n",
      "  3.97357068e-03+0.00000000e+00j  3.57324055e-03+0.00000000e+00j\n",
      "  9.75192170e-01+0.00000000e+00j  1.02644678e+00+0.00000000e+00j\n",
      "  2.68250155e-03+0.00000000e+00j  2.54511063e-03+0.00000000e+00j\n",
      "  2.01845514e-03+0.00000000e+00j  1.67332833e-03+0.00000000e+00j\n",
      "  9.86263069e-01+0.00000000e+00j  1.02822308e+00+0.00000000e+00j\n",
      "  1.02545716e+00+0.00000000e+00j  9.89152963e-01+0.00000000e+00j\n",
      "  1.01776568e+00+0.00000000e+00j  1.00940780e+00+0.00000000e+00j\n",
      "  1.00726967e+00+0.00000000e+00j  9.94327778e-01+0.00000000e+00j\n",
      "  1.00295744e+00+0.00000000e+00j  1.09986728e-03+0.00000000e+00j\n",
      "  1.09505261e-03+0.00000000e+00j  5.29192460e-04+0.00000000e+00j\n",
      "  6.57996935e-05+0.00000000e+00j  9.96416127e-01+0.00000000e+00j\n",
      "  9.96765931e-01+0.00000000e+00j  9.97032594e-01+0.00000000e+00j\n",
      "  9.97876560e-01+0.00000000e+00j  9.98115673e-01+0.00000000e+00j\n",
      "  9.98580786e-01+0.00000000e+00j  9.98697562e-01+0.00000000e+00j\n",
      "  1.00004341e+00+0.00000000e+00j  1.00001614e+00+0.00000000e+00j\n",
      "  9.99222714e-01+0.00000000e+00j  9.99301264e-01+0.00000000e+00j\n",
      "  9.99898326e-01+0.00000000e+00j  9.99809763e-01+0.00000000e+00j\n",
      "  9.99767974e-01+0.00000000e+00j  9.99663000e-01+0.00000000e+00j\n",
      "  9.99699867e-01+0.00000000e+00j  9.99425250e-01+0.00000000e+00j\n",
      "  1.12084497e-14+0.00000000e+00j -4.80121336e-15+0.00000000e+00j\n",
      " -5.25752459e-15+0.00000000e+00j  3.88784827e-15+0.00000000e+00j\n",
      "  2.69568345e-15+0.00000000e+00j  1.72828478e-15+0.00000000e+00j\n",
      "  1.33880368e-15+0.00000000e+00j  1.19607911e-15+0.00000000e+00j\n",
      "  9.78700301e-16+0.00000000e+00j  2.17805345e-16+0.00000000e+00j\n",
      " -2.91453925e-16+0.00000000e+00j  1.38954274e-16+1.25552644e-16j\n",
      "  1.38954274e-16-1.25552644e-16j -1.71587780e-16+8.36526325e-17j\n",
      " -1.71587780e-16-8.36526325e-17j -3.61808359e-17+1.06215346e-16j\n",
      " -3.61808359e-17-1.06215346e-16j -1.00286329e-16+0.00000000e+00j\n",
      "  4.31580537e-17+0.00000000e+00j  8.43853959e-17+0.00000000e+00j\n",
      "  0.00000000e+00+0.00000000e+00j]\n"
     ]
    }
   ],
   "source": [
    "X = StandardScaler().fit_transform(dummy_df)\n",
    "Xt = X.T\n",
    "Cx = np.cov(Xt)\n",
    "\n",
    "eig_val_cov, eig_vec_cov = np.linalg.eig(Cx)\n",
    "plt.plot(eig_val_cov)\n",
    "plt.show()\n",
    "\n",
    "print(eig_val_cov)\n",
    "\n",
    "sklearn_pca = PCA(n_components=5)\n",
    "Y_sklearn = sklearn_pca.fit_transform(X)"
   ]
  },
  {
   "cell_type": "code",
   "execution_count": 141,
   "metadata": {},
   "outputs": [
    {
     "data": {
      "text/plain": [
       "421095"
      ]
     },
     "execution_count": 141,
     "metadata": {},
     "output_type": "execute_result"
    }
   ],
   "source": [
    "len(Xt[0])"
   ]
  },
  {
   "cell_type": "code",
   "execution_count": 167,
   "metadata": {},
   "outputs": [],
   "source": [
    "PCA_df = pd.DataFrame()\n",
    "for i in range(14):\n",
    "    PCA_df['PCA' + str(i)] = Xt[i]\n",
    "PCA_df['loan_status'] = clean_df['loan_status']"
   ]
  },
  {
   "cell_type": "code",
   "execution_count": 168,
   "metadata": {},
   "outputs": [
    {
     "data": {
      "text/plain": [
       "array([0.95784949, 0.96445109, 0.96316877, 0.96155399, 0.96067442,\n",
       "       0.96069817, 0.96093472, 0.95986606, 0.95981666, 0.95896072])"
      ]
     },
     "execution_count": 168,
     "metadata": {},
     "output_type": "execute_result"
    }
   ],
   "source": [
    "rfc = ensemble.RandomForestClassifier()\n",
    "X = PCA_df.drop('loan_status', 1)\n",
    "Y = PCA_df['loan_status']\n",
    "\n",
    "cross_val_score(rfc, X, Y, cv=10)"
   ]
  },
  {
   "cell_type": "code",
   "execution_count": null,
   "metadata": {},
   "outputs": [],
   "source": []
  }
 ],
 "metadata": {
  "kernelspec": {
   "display_name": "Python 3",
   "language": "python",
   "name": "python3"
  },
  "language_info": {
   "codemirror_mode": {
    "name": "ipython",
    "version": 3
   },
   "file_extension": ".py",
   "mimetype": "text/x-python",
   "name": "python",
   "nbconvert_exporter": "python",
   "pygments_lexer": "ipython3",
   "version": "3.7.3"
  }
 },
 "nbformat": 4,
 "nbformat_minor": 2
}
