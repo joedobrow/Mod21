{
 "cells": [
  {
   "cell_type": "code",
   "execution_count": 15,
   "metadata": {},
   "outputs": [],
   "source": [
    "from math import log2\n",
    "import matplotlib.pyplot as plt\n",
    "%matplotlib inline\n",
    "import pandas as pd\n",
    "import numpy as np"
   ]
  },
  {
   "cell_type": "code",
   "execution_count": 30,
   "metadata": {},
   "outputs": [
    {
     "data": {
      "image/png": "[encoded data removed]",
      "text/plain": [
       "<Figure size 432x288 with 1 Axes>"
      ]
     },
     "metadata": {
      "needs_background": "light"
     },
     "output_type": "display_data"
    }
   ],
   "source": [
    "H = []\n",
    "xs = []\n",
    "for i in range(1, 100):\n",
    "    x = 1 - i/100\n",
    "    H.append(x*log2(1/x))\n",
    "    xs.append(x)\n",
    "plt.scatter(xs,H)\n",
    "plt.show()"
   ]
  },
  {
   "cell_type": "code",
   "execution_count": 128,
   "metadata": {},
   "outputs": [
    {
     "name": "stdout",
     "output_type": "stream",
     "text": [
      "1 0.28639695711595625\n",
      "2 0.4689955935892812\n",
      "3 0.6098403047164004\n",
      "4 0.7219280948873623\n",
      "5 0.8112781244591328\n",
      "6 0.8812908992306927\n",
      "7 0.934068055375491\n",
      "8 0.9709505944546686\n",
      "9 0.9927744539878083\n",
      "10 1.0\n",
      "11 0.9927744539878083\n",
      "12 0.9709505944546686\n",
      "13 0.934068055375491\n",
      "14 0.8812908992306927\n",
      "15 0.8112781244591328\n",
      "16 0.7219280948873623\n",
      "17 0.6098403047164004\n",
      "18 0.4689955935892812\n",
      "19 0.28639695711595625\n"
     ]
    }
   ],
   "source": [
    "for i in range(1,20):\n",
    "    prob1 = i/20\n",
    "    prob2 = (20-i)/20\n",
    "    H = -1*(prob1*(log2(prob1)) + prob2*(log2(prob2)))\n",
    "    print(i,H)\n",
    "# OOOOOH I get it now!"
   ]
  },
  {
   "cell_type": "code",
   "execution_count": 97,
   "metadata": {},
   "outputs": [],
   "source": [
    "students = pd.DataFrame()\n",
    "students['male'] = [1,1,0,0,1,1,1,1,1,0,0,0,0,1,1,1,1,0,1,0]\n",
    "students['height'] = [2,2,2,1,1,1,1,1,1,1,0,0,0,0,0,2,1,0,2,0]\n",
    "students['pairs'] = [1,0,1,2,1,2,2,0,1,2,2,1,2,1,0,0,0,2,0,1] "
   ]
  },
  {
   "cell_type": "code",
   "execution_count": 121,
   "metadata": {},
   "outputs": [
    {
     "data": {
      "text/html": [
       "<div>\n",
       "<style scoped>\n",
       "    .dataframe tbody tr th:only-of-type {\n",
       "        vertical-align: middle;\n",
       "    }\n",
       "\n",
       "    .dataframe tbody tr th {\n",
       "        vertical-align: top;\n",
       "    }\n",
       "\n",
       "    .dataframe thead th {\n",
       "        text-align: right;\n",
       "    }\n",
       "</style>\n",
       "<table border=\"1\" class=\"dataframe\">\n",
       "  <thead>\n",
       "    <tr style=\"text-align: right;\">\n",
       "      <th></th>\n",
       "      <th>male</th>\n",
       "      <th>height</th>\n",
       "      <th>pairs</th>\n",
       "    </tr>\n",
       "  </thead>\n",
       "  <tbody>\n",
       "    <tr>\n",
       "      <th>0</th>\n",
       "      <td>1</td>\n",
       "      <td>2</td>\n",
       "      <td>1</td>\n",
       "    </tr>\n",
       "    <tr>\n",
       "      <th>1</th>\n",
       "      <td>1</td>\n",
       "      <td>2</td>\n",
       "      <td>0</td>\n",
       "    </tr>\n",
       "    <tr>\n",
       "      <th>2</th>\n",
       "      <td>0</td>\n",
       "      <td>2</td>\n",
       "      <td>1</td>\n",
       "    </tr>\n",
       "    <tr>\n",
       "      <th>3</th>\n",
       "      <td>0</td>\n",
       "      <td>1</td>\n",
       "      <td>2</td>\n",
       "    </tr>\n",
       "    <tr>\n",
       "      <th>4</th>\n",
       "      <td>1</td>\n",
       "      <td>1</td>\n",
       "      <td>1</td>\n",
       "    </tr>\n",
       "    <tr>\n",
       "      <th>5</th>\n",
       "      <td>1</td>\n",
       "      <td>1</td>\n",
       "      <td>2</td>\n",
       "    </tr>\n",
       "    <tr>\n",
       "      <th>6</th>\n",
       "      <td>1</td>\n",
       "      <td>1</td>\n",
       "      <td>2</td>\n",
       "    </tr>\n",
       "    <tr>\n",
       "      <th>7</th>\n",
       "      <td>1</td>\n",
       "      <td>1</td>\n",
       "      <td>0</td>\n",
       "    </tr>\n",
       "    <tr>\n",
       "      <th>8</th>\n",
       "      <td>1</td>\n",
       "      <td>1</td>\n",
       "      <td>1</td>\n",
       "    </tr>\n",
       "    <tr>\n",
       "      <th>9</th>\n",
       "      <td>0</td>\n",
       "      <td>1</td>\n",
       "      <td>2</td>\n",
       "    </tr>\n",
       "    <tr>\n",
       "      <th>10</th>\n",
       "      <td>0</td>\n",
       "      <td>0</td>\n",
       "      <td>2</td>\n",
       "    </tr>\n",
       "    <tr>\n",
       "      <th>11</th>\n",
       "      <td>0</td>\n",
       "      <td>0</td>\n",
       "      <td>1</td>\n",
       "    </tr>\n",
       "    <tr>\n",
       "      <th>12</th>\n",
       "      <td>0</td>\n",
       "      <td>0</td>\n",
       "      <td>2</td>\n",
       "    </tr>\n",
       "    <tr>\n",
       "      <th>13</th>\n",
       "      <td>1</td>\n",
       "      <td>0</td>\n",
       "      <td>1</td>\n",
       "    </tr>\n",
       "    <tr>\n",
       "      <th>14</th>\n",
       "      <td>1</td>\n",
       "      <td>0</td>\n",
       "      <td>0</td>\n",
       "    </tr>\n",
       "    <tr>\n",
       "      <th>15</th>\n",
       "      <td>1</td>\n",
       "      <td>2</td>\n",
       "      <td>0</td>\n",
       "    </tr>\n",
       "    <tr>\n",
       "      <th>16</th>\n",
       "      <td>1</td>\n",
       "      <td>1</td>\n",
       "      <td>0</td>\n",
       "    </tr>\n",
       "    <tr>\n",
       "      <th>17</th>\n",
       "      <td>0</td>\n",
       "      <td>0</td>\n",
       "      <td>2</td>\n",
       "    </tr>\n",
       "    <tr>\n",
       "      <th>18</th>\n",
       "      <td>1</td>\n",
       "      <td>2</td>\n",
       "      <td>0</td>\n",
       "    </tr>\n",
       "    <tr>\n",
       "      <th>19</th>\n",
       "      <td>0</td>\n",
       "      <td>0</td>\n",
       "      <td>1</td>\n",
       "    </tr>\n",
       "  </tbody>\n",
       "</table>\n",
       "</div>"
      ],
      "text/plain": [
       "    male  height  pairs\n",
       "0      1       2      1\n",
       "1      1       2      0\n",
       "2      0       2      1\n",
       "3      0       1      2\n",
       "4      1       1      1\n",
       "5      1       1      2\n",
       "6      1       1      2\n",
       "7      1       1      0\n",
       "8      1       1      1\n",
       "9      0       1      2\n",
       "10     0       0      2\n",
       "11     0       0      1\n",
       "12     0       0      2\n",
       "13     1       0      1\n",
       "14     1       0      0\n",
       "15     1       2      0\n",
       "16     1       1      0\n",
       "17     0       0      2\n",
       "18     1       2      0\n",
       "19     0       0      1"
      ]
     },
     "execution_count": 121,
     "metadata": {},
     "output_type": "execute_result"
    }
   ],
   "source": [
    "students"
   ]
  },
  {
   "cell_type": "code",
   "execution_count": 185,
   "metadata": {},
   "outputs": [],
   "source": [
    "# This only works on 2 outcome data where 1 of the 2 possible values is the number '1'\n",
    "def entropy(data, target):\n",
    "    if len(data) == 0:\n",
    "        return 0\n",
    "    prob1 = len(data[data[target] == 1])/len(data)\n",
    "    prob2 = 1-prob1\n",
    "    if (prob1 > 0) and (prob2 > 0):\n",
    "        return prob1*(log2(1/prob1)) + prob2*(log2(1/prob2))\n",
    "    else:\n",
    "        return 0"
   ]
  },
  {
   "cell_type": "code",
   "execution_count": 186,
   "metadata": {},
   "outputs": [],
   "source": [
    "def entropyavg(data, attribute, value, target):\n",
    "    x1 = entropy(data[data[attribute] == value], target)\n",
    "    x2 = entropy(data[data[attribute] != value], target)\n",
    "    return (x1 * len(data[data[attribute] == value]) + x2 * len(data[data[attribute] != value]))/len(data)"
   ]
  },
  {
   "cell_type": "code",
   "execution_count": 187,
   "metadata": {},
   "outputs": [],
   "source": [
    "def gain(data, target):\n",
    "    \n",
    "    dict1 = {}\n",
    "    for column in data:\n",
    "        if column != target:\n",
    "            for value in data[column].unique():\n",
    "                dict1[str(column) + ' ' +str(value)] = entropyavg(data,column,value,target)\n",
    "    for i in dict1:\n",
    "        if dict1[i] == min(dict1.values()):\n",
    "            return str(i) + ' ' + str(min(dict1.values()))"
   ]
  },
  {
   "cell_type": "code",
   "execution_count": 188,
   "metadata": {},
   "outputs": [
    {
     "data": {
      "text/plain": [
       "'pairs 0 0.689659695223976'"
      ]
     },
     "execution_count": 188,
     "metadata": {},
     "output_type": "execute_result"
    }
   ],
   "source": [
    "gain(students, 'male')"
   ]
  },
  {
   "cell_type": "code",
   "execution_count": 213,
   "metadata": {},
   "outputs": [],
   "source": [
    "def tree(data, target, recursion):\n",
    "    master_tree = [entropy(data, target)]\n",
    "    if recursion == 4:\n",
    "        return master_tree\n",
    "    recursion += 1\n",
    "    master_tree = [entropy(data, target)]\n",
    "    if (len(data[data[target] == 1]) == len(data)) or (len(data[data[target] == 0]) == len(data)):\n",
    "        return master_tree\n",
    "    else:\n",
    "        column = gain(data, target).split()[0]\n",
    "        value = gain(data, target).split()[1]\n",
    "        gini = gain(data, target).split()[2]\n",
    "        master_tree.append([tree(data[data[column] == int(value)], target, recursion) , column, value])\n",
    "        master_tree.append([tree(data[data[column] != int(value)], target, recursion) , column, value])\n",
    "        return master_tree"
   ]
  },
  {
   "cell_type": "code",
   "execution_count": 214,
   "metadata": {},
   "outputs": [
    {
     "data": {
      "text/plain": [
       "[0.9709505944546687,\n",
       " [[0], 'pairs', '0'],\n",
       " [[0.9852281360342514,\n",
       "   [[0.6500224216483541,\n",
       "     [[0], 'pairs', '2'],\n",
       "     [[0.9182958340544893,\n",
       "       [[0.9182958340544893], 'height', '0'],\n",
       "       [[0], 'height', '0']],\n",
       "      'pairs',\n",
       "      '2']],\n",
       "    'height',\n",
       "    '0'],\n",
       "   [[0.9544340029249649,\n",
       "     [[0.8112781244591328, [[1.0], 'height', '2'], [[0], 'height', '2']],\n",
       "      'pairs',\n",
       "      '1'],\n",
       "     [[1.0, [[1.0], 'height', '1'], [[0], 'height', '1']], 'pairs', '1']],\n",
       "    'height',\n",
       "    '0']],\n",
       "  'pairs',\n",
       "  '0']]"
      ]
     },
     "execution_count": 214,
     "metadata": {},
     "output_type": "execute_result"
    }
   ],
   "source": [
    "tree(students, 'male', 0)"
   ]
  }
 ],
 "metadata": {
  "kernelspec": {
   "display_name": "Python 3",
   "language": "python",
   "name": "python3"
  },
  "language_info": {
   "codemirror_mode": {
    "name": "ipython",
    "version": 3
   },
   "file_extension": ".py",
   "mimetype": "text/x-python",
   "name": "python",
   "nbconvert_exporter": "python",
   "pygments_lexer": "ipython3",
   "version": "3.7.3"
  }
 },
 "nbformat": 4,
 "nbformat_minor": 2
}
