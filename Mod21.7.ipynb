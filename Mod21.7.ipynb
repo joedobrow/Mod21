{
 "cells": [
  {
   "cell_type": "markdown",
   "metadata": {},
   "source": [
    "This project is using housing data with 81 initial columns and 1460 rows. Many more columns were added after incluing dummies...Up to 399. I made a decision tree model first, which executed in .4 seconds, and had .65 accuracy. I tried to beat that with random forest in a few seperate ways. The 3 hyperparameters I focused on in my random forest modeling was max_depth, number of trees, and max_features. The most notable increase in performance without loss of much accuracy was max_features. When generating each tree, the model only considers randomly chosen square root of the total number of features. With this setting, even without that many trees, I was able to beat the performance of the decision tree AND do it in less processing time. Without care for processing time, I get over 85% accuracy with random forest. With 13 trees and max depth of 20 and using the sqrt of the max features, I get about 83% accuracy at the same processing time as the decision tree.\n",
    "\n",
    "Very obvious boost in performance of the random forest over just a basic decision tree. I will also add that between the 3 hyperparameters I investigated on this problem, max_features seems to be the biggest boost in speed with the least sacrifice in accuracy."
   ]
  },
  {
   "cell_type": "code",
   "execution_count": 245,
   "metadata": {},
   "outputs": [],
   "source": [
    "import numpy as np\n",
    "import pandas as pd\n",
    "import matplotlib.pyplot as plt\n",
    "%matplotlib inline\n",
    "from sqlalchemy import create_engine\n",
    "from scipy import stats\n",
    "import statsmodels.api as sm\n",
    "from scipy.stats.mstats import winsorize\n",
    "from sklearn.model_selection import train_test_split\n",
    "from sklearn import tree\n",
    "from sklearn import ensemble\n",
    "from sklearn.model_selection import cross_val_score\n",
    "import time\n",
    "\n",
    "\n",
    "import warnings\n",
    "warnings.filterwarnings('ignore')"
   ]
  },
  {
   "cell_type": "code",
   "execution_count": 246,
   "metadata": {},
   "outputs": [],
   "source": [
    "postgres_user = 'dsbc_student'\n",
    "postgres_pw = '7*.8G9QH21'\n",
    "postgres_host = '142.93.121.174'\n",
    "postgres_port = '5432'\n",
    "postgres_db = 'houseprices'\n",
    "\n",
    "engine = create_engine('postgresql://{}:{}@{}:{}/{}'.format(\n",
    "    postgres_user, postgres_pw, postgres_host, postgres_port, postgres_db))\n",
    "df = pd.read_sql_query('select * from houseprices',con=engine)\n",
    "\n",
    "engine.dispose()\n"
   ]
  },
  {
   "cell_type": "code",
   "execution_count": 247,
   "metadata": {},
   "outputs": [],
   "source": [
    "clean_df = df.copy()\n",
    "clean_df.alley.unique()\n",
    "clean_df.alley.fillna('None', inplace=True)\n",
    "clean_df.lotfrontage.fillna(0, inplace=True)\n",
    "clean_df.masvnrtype.fillna('None', inplace=True)\n",
    "clean_df.masvnrarea.fillna(0.0, inplace=True)\n",
    "clean_df.bsmtqual.fillna('NA', inplace=True)\n",
    "clean_df.bsmtcond.fillna('NA', inplace=True)\n",
    "clean_df.bsmtexposure.fillna('NA', inplace=True)\n",
    "clean_df.bsmtfintype1.fillna('NA', inplace=True)\n",
    "clean_df.bsmtfintype2.fillna('NA', inplace=True)\n",
    "clean_df.bsmtexposure.fillna('NA', inplace=True)\n",
    "clean_df.electrical.fillna('SBrkr', inplace=True)\n",
    "clean_df.fireplacequ.fillna('NA', inplace=True)\n",
    "clean_df.garagetype.fillna('NA', inplace=True)\n",
    "clean_df.garageyrblt.fillna('NA', inplace=True)\n",
    "clean_df.garagefinish.fillna('NA', inplace=True)\n",
    "clean_df.garagequal.fillna('NA', inplace=True)\n",
    "clean_df.garagecond.fillna('NA', inplace=True)\n",
    "clean_df.poolqc.fillna('NA', inplace=True)\n",
    "clean_df.fence.fillna('NA', inplace=True)\n",
    "clean_df.miscfeature.fillna('NA', inplace=True)"
   ]
  },
  {
   "cell_type": "code",
   "execution_count": 248,
   "metadata": {},
   "outputs": [],
   "source": [
    "feature_df = clean_df[['lotarea', 'overallqual']].copy()\n",
    "bldgtype_list = []\n",
    "for i in df.bldgtype:\n",
    "    if i == '2fmCon':\n",
    "        bldgtype_list.append('Duplex')\n",
    "    else:\n",
    "        bldgtype_list.append(i)\n",
    "clean_df['bldgtype'] = bldgtype_list\n",
    "x = pd.get_dummies(clean_df.bldgtype, drop_first=True).copy()\n",
    "for i in range(len(clean_df.bldgtype.unique()) - 1):\n",
    "    feature_df['bldgtype' + clean_df.bldgtype.unique()[i + 1]] = x.iloc[:,i]"
   ]
  },
  {
   "cell_type": "code",
   "execution_count": 249,
   "metadata": {},
   "outputs": [],
   "source": [
    "keywords = ['garagequal', 'kitchenqual', 'bsmtcond', 'bsmtqual', 'exterqual' ]\n",
    "for word in keywords:\n",
    "    nums = []\n",
    "    for row in clean_df[word]:\n",
    "        if row == 'Fa':\n",
    "            nums.append(1)\n",
    "        elif row == 'TA':\n",
    "            nums.append(2)\n",
    "        elif row == 'Gd':\n",
    "            nums.append(3)\n",
    "        elif row == 'Ex':\n",
    "            nums.append(4)\n",
    "        else:\n",
    "            nums.append(0)\n",
    "    feature_df[word] = nums"
   ]
  },
  {
   "cell_type": "code",
   "execution_count": 250,
   "metadata": {},
   "outputs": [],
   "source": [
    "feature_df[['garagecars', 'firstflrsf', 'fullbath', 'totrmsabvgrd', 'yearbuilt', 'yearremodadd', 'fireplaces', 'bsmtfinsf1', 'wooddecksf', 'secondflrsf']] = clean_df[['garagecars', 'firstflrsf', 'fullbath', 'totrmsabvgrd', 'yearbuilt', 'yearremodadd', 'fireplaces', 'bsmtfinsf1', 'wooddecksf', 'secondflrsf']]\n",
    "feature_df['isWDsale'] = x.iloc[:,-1]\n",
    "feature_df['saleprice'] = clean_df.saleprice"
   ]
  },
  {
   "cell_type": "code",
   "execution_count": 251,
   "metadata": {},
   "outputs": [
    {
     "data": {
      "text/html": [
       "<div>\n",
       "<style scoped>\n",
       "    .dataframe tbody tr th:only-of-type {\n",
       "        vertical-align: middle;\n",
       "    }\n",
       "\n",
       "    .dataframe tbody tr th {\n",
       "        vertical-align: top;\n",
       "    }\n",
       "\n",
       "    .dataframe thead th {\n",
       "        text-align: right;\n",
       "    }\n",
       "</style>\n",
       "<table border=\"1\" class=\"dataframe\">\n",
       "  <thead>\n",
       "    <tr style=\"text-align: right;\">\n",
       "      <th></th>\n",
       "      <th>id</th>\n",
       "      <th>mssubclass</th>\n",
       "      <th>mszoning</th>\n",
       "      <th>lotfrontage</th>\n",
       "      <th>lotarea</th>\n",
       "      <th>street</th>\n",
       "      <th>alley</th>\n",
       "      <th>lotshape</th>\n",
       "      <th>landcontour</th>\n",
       "      <th>utilities</th>\n",
       "      <th>...</th>\n",
       "      <th>poolarea</th>\n",
       "      <th>poolqc</th>\n",
       "      <th>fence</th>\n",
       "      <th>miscfeature</th>\n",
       "      <th>miscval</th>\n",
       "      <th>mosold</th>\n",
       "      <th>yrsold</th>\n",
       "      <th>saletype</th>\n",
       "      <th>salecondition</th>\n",
       "      <th>saleprice</th>\n",
       "    </tr>\n",
       "  </thead>\n",
       "  <tbody>\n",
       "    <tr>\n",
       "      <th>0</th>\n",
       "      <td>1</td>\n",
       "      <td>60</td>\n",
       "      <td>RL</td>\n",
       "      <td>65.0</td>\n",
       "      <td>8450</td>\n",
       "      <td>Pave</td>\n",
       "      <td>None</td>\n",
       "      <td>Reg</td>\n",
       "      <td>Lvl</td>\n",
       "      <td>AllPub</td>\n",
       "      <td>...</td>\n",
       "      <td>0</td>\n",
       "      <td>NA</td>\n",
       "      <td>NA</td>\n",
       "      <td>NA</td>\n",
       "      <td>0</td>\n",
       "      <td>2</td>\n",
       "      <td>2008</td>\n",
       "      <td>WD</td>\n",
       "      <td>Normal</td>\n",
       "      <td>208500</td>\n",
       "    </tr>\n",
       "    <tr>\n",
       "      <th>1</th>\n",
       "      <td>2</td>\n",
       "      <td>20</td>\n",
       "      <td>RL</td>\n",
       "      <td>80.0</td>\n",
       "      <td>9600</td>\n",
       "      <td>Pave</td>\n",
       "      <td>None</td>\n",
       "      <td>Reg</td>\n",
       "      <td>Lvl</td>\n",
       "      <td>AllPub</td>\n",
       "      <td>...</td>\n",
       "      <td>0</td>\n",
       "      <td>NA</td>\n",
       "      <td>NA</td>\n",
       "      <td>NA</td>\n",
       "      <td>0</td>\n",
       "      <td>5</td>\n",
       "      <td>2007</td>\n",
       "      <td>WD</td>\n",
       "      <td>Normal</td>\n",
       "      <td>181500</td>\n",
       "    </tr>\n",
       "    <tr>\n",
       "      <th>2</th>\n",
       "      <td>3</td>\n",
       "      <td>60</td>\n",
       "      <td>RL</td>\n",
       "      <td>68.0</td>\n",
       "      <td>11250</td>\n",
       "      <td>Pave</td>\n",
       "      <td>None</td>\n",
       "      <td>IR1</td>\n",
       "      <td>Lvl</td>\n",
       "      <td>AllPub</td>\n",
       "      <td>...</td>\n",
       "      <td>0</td>\n",
       "      <td>NA</td>\n",
       "      <td>NA</td>\n",
       "      <td>NA</td>\n",
       "      <td>0</td>\n",
       "      <td>9</td>\n",
       "      <td>2008</td>\n",
       "      <td>WD</td>\n",
       "      <td>Normal</td>\n",
       "      <td>223500</td>\n",
       "    </tr>\n",
       "    <tr>\n",
       "      <th>3</th>\n",
       "      <td>4</td>\n",
       "      <td>70</td>\n",
       "      <td>RL</td>\n",
       "      <td>60.0</td>\n",
       "      <td>9550</td>\n",
       "      <td>Pave</td>\n",
       "      <td>None</td>\n",
       "      <td>IR1</td>\n",
       "      <td>Lvl</td>\n",
       "      <td>AllPub</td>\n",
       "      <td>...</td>\n",
       "      <td>0</td>\n",
       "      <td>NA</td>\n",
       "      <td>NA</td>\n",
       "      <td>NA</td>\n",
       "      <td>0</td>\n",
       "      <td>2</td>\n",
       "      <td>2006</td>\n",
       "      <td>WD</td>\n",
       "      <td>Abnorml</td>\n",
       "      <td>140000</td>\n",
       "    </tr>\n",
       "    <tr>\n",
       "      <th>4</th>\n",
       "      <td>5</td>\n",
       "      <td>60</td>\n",
       "      <td>RL</td>\n",
       "      <td>84.0</td>\n",
       "      <td>14260</td>\n",
       "      <td>Pave</td>\n",
       "      <td>None</td>\n",
       "      <td>IR1</td>\n",
       "      <td>Lvl</td>\n",
       "      <td>AllPub</td>\n",
       "      <td>...</td>\n",
       "      <td>0</td>\n",
       "      <td>NA</td>\n",
       "      <td>NA</td>\n",
       "      <td>NA</td>\n",
       "      <td>0</td>\n",
       "      <td>12</td>\n",
       "      <td>2008</td>\n",
       "      <td>WD</td>\n",
       "      <td>Normal</td>\n",
       "      <td>250000</td>\n",
       "    </tr>\n",
       "  </tbody>\n",
       "</table>\n",
       "<p>5 rows × 81 columns</p>\n",
       "</div>"
      ],
      "text/plain": [
       "   id  mssubclass mszoning  lotfrontage  lotarea street alley lotshape  \\\n",
       "0   1          60       RL         65.0     8450   Pave  None      Reg   \n",
       "1   2          20       RL         80.0     9600   Pave  None      Reg   \n",
       "2   3          60       RL         68.0    11250   Pave  None      IR1   \n",
       "3   4          70       RL         60.0     9550   Pave  None      IR1   \n",
       "4   5          60       RL         84.0    14260   Pave  None      IR1   \n",
       "\n",
       "  landcontour utilities  ... poolarea poolqc fence miscfeature miscval mosold  \\\n",
       "0         Lvl    AllPub  ...        0     NA    NA          NA       0      2   \n",
       "1         Lvl    AllPub  ...        0     NA    NA          NA       0      5   \n",
       "2         Lvl    AllPub  ...        0     NA    NA          NA       0      9   \n",
       "3         Lvl    AllPub  ...        0     NA    NA          NA       0      2   \n",
       "4         Lvl    AllPub  ...        0     NA    NA          NA       0     12   \n",
       "\n",
       "  yrsold  saletype  salecondition  saleprice  \n",
       "0   2008        WD         Normal     208500  \n",
       "1   2007        WD         Normal     181500  \n",
       "2   2008        WD         Normal     223500  \n",
       "3   2006        WD        Abnorml     140000  \n",
       "4   2008        WD         Normal     250000  \n",
       "\n",
       "[5 rows x 81 columns]"
      ]
     },
     "execution_count": 251,
     "metadata": {},
     "output_type": "execute_result"
    }
   ],
   "source": [
    "clean_df.head()"
   ]
  },
  {
   "cell_type": "code",
   "execution_count": 252,
   "metadata": {},
   "outputs": [],
   "source": [
    "X = pd.get_dummies(clean_df.drop('saleprice', 1))\n",
    "Y = clean_df.saleprice"
   ]
  },
  {
   "cell_type": "code",
   "execution_count": 253,
   "metadata": {},
   "outputs": [
    {
     "name": "stdout",
     "output_type": "stream",
     "text": [
      "[0.73671256 0.77506663 0.76883515 0.60674593 0.56013221 0.433937  ]\n",
      "0.6469049120061571\n",
      "--- 0.39668798446655273 seconds ---\n"
     ]
    }
   ],
   "source": [
    "start_time = time.time()\n",
    "decision_tree = tree.DecisionTreeRegressor()\n",
    "cv = 6\n",
    "tree_results = cross_val_score(decision_tree, X, Y, cv=cv)\n",
    "print(tree_results)\n",
    "total = 0\n",
    "for i in tree_results:\n",
    "    total += i\n",
    "print(total/cv)\n",
    "print(\"--- %s seconds ---\" % (time.time() - start_time))"
   ]
  },
  {
   "cell_type": "code",
   "execution_count": 254,
   "metadata": {},
   "outputs": [
    {
     "data": {
      "image/png": "[encoded data removed]",
      "text/plain": [
       "<Figure size 432x288 with 1 Axes>"
      ]
     },
     "metadata": {
      "needs_background": "light"
     },
     "output_type": "display_data"
    }
   ],
   "source": [
    "number_trees = []\n",
    "runtimes = []\n",
    "accuracy = []\n",
    "for i in range(0, 20, 2):\n",
    "    start_time = time.time()\n",
    "    rfr = ensemble.RandomForestRegressor(n_estimators=i + 1)\n",
    "    cv = 6\n",
    "    forest_results = cross_val_score(rfr, X, Y, cv=cv)\n",
    "    #print(forest_results)\n",
    "    total = 0\n",
    "    for j in forest_results:\n",
    "        total += j\n",
    "    number_trees.append(i+1)\n",
    "    #print(\" %s seconds ---\" % (time.time() - start_time))\n",
    "    runtimes.append((time.time() - start_time))\n",
    "    #print('Accuracy: ', total/cv, '\\n')\n",
    "    accuracy.append(total/cv)\n",
    "max_runtime = max(runtimes)\n",
    "for i in range(len(runtimes)):\n",
    "    runtimes[i] = runtimes[i]/max_runtime\n",
    "line1 = plt.plot(number_trees, runtimes)\n",
    "line2 = plt.plot(number_trees, accuracy)\n",
    "line3 = plt.axhline(.75, color='r')\n",
    "line4 = plt.axhline(0.7786779403686523/max_runtime, color='black')\n",
    "plt.legend((line1[0], line2[0], line3, line4), ('Runtime', 'Accuracy', 'Decision Tree Accuracy', 'Decision Tree Runtime'))\n",
    "plt.title('Runtimes and Accuracy based on Number Trees')\n",
    "plt.xlabel('Trees')\n",
    "plt.ylabel('Percent')\n",
    "plt.show()\n",
    "# Runtimes are scaled to make graph nicer"
   ]
  },
  {
   "cell_type": "code",
   "execution_count": 255,
   "metadata": {},
   "outputs": [
    {
     "data": {
      "image/png": "[encoded data removed]",
      "text/plain": [
       "<Figure size 432x288 with 1 Axes>"
      ]
     },
     "metadata": {
      "needs_background": "light"
     },
     "output_type": "display_data"
    }
   ],
   "source": [
    "depths = []\n",
    "runtimes = []\n",
    "accuracy = []\n",
    "for i in range(0, 20, 2):\n",
    "    start_time = time.time()\n",
    "    rfr = ensemble.RandomForestRegressor(n_estimators=10, max_depth=i+1)\n",
    "    cv = 6\n",
    "    forest_results = cross_val_score(rfr, X, Y, cv=cv)\n",
    "    total = 0\n",
    "    for j in forest_results:\n",
    "        total += j\n",
    "    depths.append(i+1)\n",
    "    runtimes.append((time.time() - start_time))\n",
    "    accuracy.append(total/cv)\n",
    "max_runtime = max(runtimes)\n",
    "for i in range(len(runtimes)):\n",
    "    runtimes[i] = runtimes[i]/max_runtime\n",
    "line1 = plt.plot(depths, runtimes)\n",
    "line2 = plt.plot(depths, accuracy)\n",
    "line3 = plt.axhline(.75, color='r')\n",
    "line4 = plt.axhline(0.7786779403686523/max_runtime, color='black')\n",
    "plt.legend((line1[0], line2[0], line3), ('Runtime', 'Accuracy', 'Decision Tree Accuracy', 'Decision Tree Runtime'))\n",
    "plt.title('Runtimes and Accuracy based on Max Depth')\n",
    "plt.xlabel('Max Depths')\n",
    "plt.ylabel('Percent')\n",
    "plt.show()"
   ]
  },
  {
   "cell_type": "code",
   "execution_count": 256,
   "metadata": {},
   "outputs": [
    {
     "data": {
      "image/png": "[encoded data removed]",
      "text/plain": [
       "<Figure size 432x288 with 1 Axes>"
      ]
     },
     "metadata": {
      "needs_background": "light"
     },
     "output_type": "display_data"
    }
   ],
   "source": [
    "depths = []\n",
    "runtimes = []\n",
    "accuracy = []\n",
    "for i in range(0, 40, 2):\n",
    "    start_time = time.time()\n",
    "    rfr = ensemble.RandomForestRegressor(n_estimators=i+1, max_depth=i+1, max_features='sqrt')\n",
    "    cv = 6\n",
    "    forest_results = cross_val_score(rfr, X, Y, cv=cv)\n",
    "    total = 0\n",
    "    for j in forest_results:\n",
    "        total += j\n",
    "    depths.append(i+1)\n",
    "    runtimes.append((time.time() - start_time))\n",
    "    accuracy.append(total/cv)\n",
    "max_runtime = max(runtimes)\n",
    "for i in range(len(runtimes)):\n",
    "    runtimes[i] = runtimes[i]/max_runtime\n",
    "line1 = plt.plot(depths, runtimes)\n",
    "line2 = plt.plot(depths, accuracy)\n",
    "line3 = plt.axhline(.75, color='r')\n",
    "line4 = plt.axhline(0.7786779403686523/max_runtime, color='black')\n",
    "plt.legend((line1[0], line2[0], line3), ('Runtime', 'Accuracy', 'Decision Tree Accuracy', 'Decision Tree Runtime'))\n",
    "plt.title('Runtimes and Accuracy based on Max Depth AND trees')\n",
    "plt.xlabel('Max Depth and Trees')\n",
    "plt.ylabel('Percent')\n",
    "plt.show()\n",
    "# This time I set the max_features to the sqrt and increased performace speed greatly."
   ]
  },
  {
   "cell_type": "code",
   "execution_count": 289,
   "metadata": {},
   "outputs": [
    {
     "name": "stdout",
     "output_type": "stream",
     "text": [
      "Accuracy:  0.8462168748545515\n",
      "Time:  2.780388832092285\n"
     ]
    }
   ],
   "source": [
    "start_time = time.time()\n",
    "rfr = ensemble.RandomForestRegressor(n_estimators=13, max_depth=20, max_features='sqrt')\n",
    "cv = 6\n",
    "forest_results = cross_val_score(rfr, X, Y, cv=cv)\n",
    "total=0\n",
    "for i in forest_results:\n",
    "    total+=i\n",
    "print('Accuracy: ', total/cv)\n",
    "print('Time: ', time.time() - start_time)"
   ]
  },
  {
   "cell_type": "code",
   "execution_count": 292,
   "metadata": {},
   "outputs": [
    {
     "name": "stdout",
     "output_type": "stream",
     "text": [
      "Accuracy:  0.8475072129400871\n",
      "Time:  2.831912040710449\n"
     ]
    }
   ],
   "source": [
    "start_time = time.time()\n",
    "rfr = ensemble.RandomForestRegressor(n_estimators=100, max_features='sqrt')\n",
    "cv = 6\n",
    "forest_results = cross_val_score(rfr, X, Y, cv=cv)\n",
    "total=0\n",
    "for i in forest_results:\n",
    "    total+=i\n",
    "print('Accuracy: ', total/cv)\n",
    "print('Time: ', time.time() - start_time)"
   ]
  },
  {
   "cell_type": "code",
   "execution_count": null,
   "metadata": {},
   "outputs": [],
   "source": []
  },
  {
   "cell_type": "code",
   "execution_count": null,
   "metadata": {},
   "outputs": [],
   "source": []
  }
 ],
 "metadata": {
  "kernelspec": {
   "display_name": "Python 3",
   "language": "python",
   "name": "python3"
  },
  "language_info": {
   "codemirror_mode": {
    "name": "ipython",
    "version": 3
   },
   "file_extension": ".py",
   "mimetype": "text/x-python",
   "name": "python",
   "nbconvert_exporter": "python",
   "pygments_lexer": "ipython3",
   "version": "3.7.3"
  }
 },
 "nbformat": 4,
 "nbformat_minor": 2
}
